{
 "cells": [
  {
   "cell_type": "code",
   "execution_count": 2,
   "metadata": {},
   "outputs": [
    {
     "name": "stdout",
     "output_type": "stream",
     "text": [
      "Requirement already satisfied: nltk in /Library/Frameworks/Python.framework/Versions/3.13/lib/python3.13/site-packages (3.9.1)\n",
      "Requirement already satisfied: click in /Library/Frameworks/Python.framework/Versions/3.13/lib/python3.13/site-packages (from nltk) (8.1.8)\n",
      "Requirement already satisfied: joblib in /Library/Frameworks/Python.framework/Versions/3.13/lib/python3.13/site-packages (from nltk) (1.4.2)\n",
      "Requirement already satisfied: regex>=2021.8.3 in /Library/Frameworks/Python.framework/Versions/3.13/lib/python3.13/site-packages (from nltk) (2024.11.6)\n",
      "Requirement already satisfied: tqdm in /Library/Frameworks/Python.framework/Versions/3.13/lib/python3.13/site-packages (from nltk) (4.67.1)\n",
      "\n",
      "\u001b[1m[\u001b[0m\u001b[34;49mnotice\u001b[0m\u001b[1;39;49m]\u001b[0m\u001b[39;49m A new release of pip is available: \u001b[0m\u001b[31;49m24.2\u001b[0m\u001b[39;49m -> \u001b[0m\u001b[32;49m25.0.1\u001b[0m\n",
      "\u001b[1m[\u001b[0m\u001b[34;49mnotice\u001b[0m\u001b[1;39;49m]\u001b[0m\u001b[39;49m To update, run: \u001b[0m\u001b[32;49mpip3 install --upgrade pip\u001b[0m\n",
      "Note: you may need to restart the kernel to use updated packages.\n",
      "Requirement already satisfied: pymorphy3 in /Library/Frameworks/Python.framework/Versions/3.13/lib/python3.13/site-packages (2.0.3)\n",
      "Requirement already satisfied: dawg2-python>=0.8.0 in /Library/Frameworks/Python.framework/Versions/3.13/lib/python3.13/site-packages (from pymorphy3) (0.9.0)\n",
      "Requirement already satisfied: pymorphy3-dicts-ru in /Library/Frameworks/Python.framework/Versions/3.13/lib/python3.13/site-packages (from pymorphy3) (2.4.417150.4580142)\n",
      "Requirement already satisfied: setuptools>=68.2.2 in /Library/Frameworks/Python.framework/Versions/3.13/lib/python3.13/site-packages (from pymorphy3) (75.8.2)\n",
      "\n",
      "\u001b[1m[\u001b[0m\u001b[34;49mnotice\u001b[0m\u001b[1;39;49m]\u001b[0m\u001b[39;49m A new release of pip is available: \u001b[0m\u001b[31;49m24.2\u001b[0m\u001b[39;49m -> \u001b[0m\u001b[32;49m25.0.1\u001b[0m\n",
      "\u001b[1m[\u001b[0m\u001b[34;49mnotice\u001b[0m\u001b[1;39;49m]\u001b[0m\u001b[39;49m To update, run: \u001b[0m\u001b[32;49mpip3 install --upgrade pip\u001b[0m\n",
      "Note: you may need to restart the kernel to use updated packages.\n",
      "Requirement already satisfied: numpy in /Library/Frameworks/Python.framework/Versions/3.13/lib/python3.13/site-packages (2.2.3)\n",
      "\n",
      "\u001b[1m[\u001b[0m\u001b[34;49mnotice\u001b[0m\u001b[1;39;49m]\u001b[0m\u001b[39;49m A new release of pip is available: \u001b[0m\u001b[31;49m24.2\u001b[0m\u001b[39;49m -> \u001b[0m\u001b[32;49m25.0.1\u001b[0m\n",
      "\u001b[1m[\u001b[0m\u001b[34;49mnotice\u001b[0m\u001b[1;39;49m]\u001b[0m\u001b[39;49m To update, run: \u001b[0m\u001b[32;49mpip3 install --upgrade pip\u001b[0m\n",
      "Note: you may need to restart the kernel to use updated packages.\n",
      "Requirement already satisfied: pandas in /Library/Frameworks/Python.framework/Versions/3.13/lib/python3.13/site-packages (2.2.3)\n",
      "Requirement already satisfied: numpy>=1.26.0 in /Library/Frameworks/Python.framework/Versions/3.13/lib/python3.13/site-packages (from pandas) (2.2.3)\n",
      "Requirement already satisfied: python-dateutil>=2.8.2 in /Users/aleksandrasestakova/Library/Python/3.13/lib/python/site-packages (from pandas) (2.9.0.post0)\n",
      "Requirement already satisfied: pytz>=2020.1 in /Library/Frameworks/Python.framework/Versions/3.13/lib/python3.13/site-packages (from pandas) (2025.1)\n",
      "Requirement already satisfied: tzdata>=2022.7 in /Library/Frameworks/Python.framework/Versions/3.13/lib/python3.13/site-packages (from pandas) (2025.1)\n",
      "Requirement already satisfied: six>=1.5 in /Users/aleksandrasestakova/Library/Python/3.13/lib/python/site-packages (from python-dateutil>=2.8.2->pandas) (1.16.0)\n",
      "\n",
      "\u001b[1m[\u001b[0m\u001b[34;49mnotice\u001b[0m\u001b[1;39;49m]\u001b[0m\u001b[39;49m A new release of pip is available: \u001b[0m\u001b[31;49m24.2\u001b[0m\u001b[39;49m -> \u001b[0m\u001b[32;49m25.0.1\u001b[0m\n",
      "\u001b[1m[\u001b[0m\u001b[34;49mnotice\u001b[0m\u001b[1;39;49m]\u001b[0m\u001b[39;49m To update, run: \u001b[0m\u001b[32;49mpip3 install --upgrade pip\u001b[0m\n",
      "Note: you may need to restart the kernel to use updated packages.\n",
      "Requirement already satisfied: matplotlib in /Library/Frameworks/Python.framework/Versions/3.13/lib/python3.13/site-packages (3.10.1)\n",
      "Requirement already satisfied: contourpy>=1.0.1 in /Library/Frameworks/Python.framework/Versions/3.13/lib/python3.13/site-packages (from matplotlib) (1.3.1)\n",
      "Requirement already satisfied: cycler>=0.10 in /Library/Frameworks/Python.framework/Versions/3.13/lib/python3.13/site-packages (from matplotlib) (0.12.1)\n",
      "Requirement already satisfied: fonttools>=4.22.0 in /Library/Frameworks/Python.framework/Versions/3.13/lib/python3.13/site-packages (from matplotlib) (4.56.0)\n",
      "Requirement already satisfied: kiwisolver>=1.3.1 in /Library/Frameworks/Python.framework/Versions/3.13/lib/python3.13/site-packages (from matplotlib) (1.4.8)\n",
      "Requirement already satisfied: numpy>=1.23 in /Library/Frameworks/Python.framework/Versions/3.13/lib/python3.13/site-packages (from matplotlib) (2.2.3)\n",
      "Requirement already satisfied: packaging>=20.0 in /Users/aleksandrasestakova/Library/Python/3.13/lib/python/site-packages (from matplotlib) (24.1)\n",
      "Requirement already satisfied: pillow>=8 in /Library/Frameworks/Python.framework/Versions/3.13/lib/python3.13/site-packages (from matplotlib) (11.1.0)\n",
      "Requirement already satisfied: pyparsing>=2.3.1 in /Library/Frameworks/Python.framework/Versions/3.13/lib/python3.13/site-packages (from matplotlib) (3.2.1)\n",
      "Requirement already satisfied: python-dateutil>=2.7 in /Users/aleksandrasestakova/Library/Python/3.13/lib/python/site-packages (from matplotlib) (2.9.0.post0)\n",
      "Requirement already satisfied: six>=1.5 in /Users/aleksandrasestakova/Library/Python/3.13/lib/python/site-packages (from python-dateutil>=2.7->matplotlib) (1.16.0)\n",
      "\n",
      "\u001b[1m[\u001b[0m\u001b[34;49mnotice\u001b[0m\u001b[1;39;49m]\u001b[0m\u001b[39;49m A new release of pip is available: \u001b[0m\u001b[31;49m24.2\u001b[0m\u001b[39;49m -> \u001b[0m\u001b[32;49m25.0.1\u001b[0m\n",
      "\u001b[1m[\u001b[0m\u001b[34;49mnotice\u001b[0m\u001b[1;39;49m]\u001b[0m\u001b[39;49m To update, run: \u001b[0m\u001b[32;49mpip3 install --upgrade pip\u001b[0m\n",
      "Note: you may need to restart the kernel to use updated packages.\n"
     ]
    }
   ],
   "source": [
    "%pip install nltk\n",
    "%pip install pymorphy3\n",
    "%pip install numpy\n",
    "%pip install pandas\n",
    "%pip install matplotlib"
   ]
  },
  {
   "cell_type": "code",
   "execution_count": 3,
   "metadata": {},
   "outputs": [
    {
     "name": "stderr",
     "output_type": "stream",
     "text": [
      "[nltk_data] Error loading punkt.tab: <urlopen error [SSL:\n",
      "[nltk_data]     CERTIFICATE_VERIFY_FAILED] certificate verify failed:\n",
      "[nltk_data]     unable to get local issuer certificate (_ssl.c:1020)>\n",
      "[nltk_data] Error loading stopwords: <urlopen error [SSL:\n",
      "[nltk_data]     CERTIFICATE_VERIFY_FAILED] certificate verify failed:\n",
      "[nltk_data]     unable to get local issuer certificate (_ssl.c:1020)>\n"
     ]
    }
   ],
   "source": [
    "# импорт необходимых библиотек\n",
    "\n",
    "import os\n",
    "import re\n",
    "import nltk\n",
    "import string\n",
    "import pymorphy3\n",
    "from nltk.tokenize import word_tokenize, wordpunct_tokenize\n",
    "from nltk import download\n",
    "nltk.download('punkt.tab')\n",
    "download('stopwords')\n",
    "morph = pymorphy3.MorphAnalyzer()\n",
    "from nltk.corpus import stopwords\n",
    "stop_words = stopwords.words('russian')\n",
    "import numpy as np\n",
    "from collections import Counter\n",
    "import matplotlib.pyplot as plt\n",
    "import matplotlib.ticker as ticker\n",
    "import pandas as pd"
   ]
  },
  {
   "cell_type": "code",
   "execution_count": 4,
   "metadata": {},
   "outputs": [],
   "source": [
    "# загрузка всех 18 глав по порядку - каждая из них пронумерована\n",
    "with open('1.txt', encoding='utf-8') as f:\n",
    "    chapter_1 = f.read()\n",
    "\n",
    "with open('2.txt', encoding='utf-8') as f:\n",
    "    chapter_2 = f.read()\n",
    "\n",
    "with open('3.txt', encoding='utf-8') as f:\n",
    "    chapter_3 = f.read()\n",
    "\n",
    "with open('4.txt', encoding='utf-8') as f:\n",
    "    chapter_4 = f.read()\n",
    "\n",
    "with open('5.txt', encoding='utf-8') as f:\n",
    "    chapter_5 = f.read()\n",
    "\n",
    "with open('6.txt', encoding='utf-8') as f:\n",
    "    chapter_6 = f.read()\n",
    "\n",
    "with open('7.txt', encoding='utf-8') as f:\n",
    "    chapter_7 = f.read()\n",
    "\n",
    "with open('8.txt', encoding='utf-8') as f:\n",
    "    chapter_8 = f.read()\n",
    "\n",
    "with open('9.txt', encoding='utf-8') as f:\n",
    "    chapter_9 = f.read()\n",
    "\n",
    "with open('10.txt', encoding='utf-8') as f:\n",
    "    chapter_10 = f.read()\n",
    "\n",
    "with open('11.txt', encoding='utf-8') as f:\n",
    "    chapter_11 = f.read()\n",
    "\n",
    "with open('12.txt', encoding='utf-8') as f:\n",
    "    chapter_12 = f.read()\n",
    "\n",
    "with open('13.txt', encoding='utf-8') as f:\n",
    "    chapter_13 = f.read()\n",
    "\n",
    "with open('14.txt', encoding='utf-8') as f:\n",
    "    chapter_14 = f.read()\n",
    "\n",
    "with open('15.txt', encoding='utf-8') as f:\n",
    "    chapter_15 = f.read()\n",
    "\n",
    "with open('16.txt', encoding='utf-8') as f:\n",
    "    chapter_16 = f.read()\n",
    "\n",
    "with open('17.txt', encoding='utf-8') as f:\n",
    "    chapter_17 = f.read()\n",
    "\n",
    "with open('18.txt', encoding='utf-8') as f:\n",
    "    chapter_18 = f.read()"
   ]
  },
  {
   "cell_type": "code",
   "execution_count": 5,
   "metadata": {},
   "outputs": [
    {
     "name": "stdout",
     "output_type": "stream",
     "text": [
      "Найденные слова в главе 1: ['продолжать', 'продолжать', 'продолжать', 'продолжать', 'продолжать', 'продолжать', 'продолжать', 'последовать', 'продолжать', 'продолжать', 'продолжать']\n",
      "Наиболее употребляемое слово: продолжать (10 раз)\n",
      "Процент найденных слов: 0.27%\n"
     ]
    }
   ],
   "source": [
    "# предобработка глав\n",
    "\n",
    "# глава 1\n",
    "# приводим текст к нижнему регистру\n",
    "chapter_1 = chapter_1.lower()\n",
    "# удаляем сноски в квадратных скобках - в \"Улиссе\" много примечаний\n",
    "chapter_1 = re.sub(r'\\[[^\\]]*\\]', '', chapter_1)\n",
    "# удаляем пунктуацию\n",
    "chapter_1 = re.sub(r'[^\\w\\s]', '', chapter_1)\n",
    "# разбиваем на токены\n",
    "tokens_1 = re.findall(r'\\w+', chapter_1)\n",
    "# удаляем стоп-слова\n",
    "filtered_tokens_1 = [token for token in tokens_1 if token not in stop_words]\n",
    "# лемматизация\n",
    "lemmas_1 = [morph.parse(token)[0].normal_form for token in filtered_tokens_1]\n",
    "# количество получившихся лемм после предобработки, вывожу в отдельную переменную, она нам позже понадобится\n",
    "len(lemmas_1)\n",
    "# поиск слова \"наследник\" и его синонимов (включая различные формы)\n",
    "search_terms_1 = {'наследник', 'преемник', 'потомок', 'продолжатель', 'последователь'}\n",
    "search_pattern_1 = re.compile(r'^(наслед|преем|потом|продолжат|последоват)[а-я]*$', re.IGNORECASE)\n",
    "found_words_1 = [lemma for lemma in lemmas_1 if search_pattern_1.match(lemma)]\n",
    "print(\"Найденные слова в главе 1:\", found_words_1)\n",
    "# какое слово среди найденных употребляется чаще всего?\n",
    "word_counts_1 = Counter(found_words_1)\n",
    "most_common_word_1, most_common_count_1 = word_counts_1.most_common(1)[0] if word_counts_1 else (None, 0)\n",
    "print(f\"Наиболее употребляемое слово: {most_common_word_1} ({most_common_count_1} раз)\")\n",
    "# Вычисление процента найденных слов относительно общего количества лемм\n",
    "percentage_found_1 = (len(found_words_1) / len(lemmas_1)) * 100 if len(lemmas_1) > 0 else 0\n",
    "print(f\"Процент найденных слов: {percentage_found_1:.2f}%\")"
   ]
  },
  {
   "cell_type": "code",
   "execution_count": 6,
   "metadata": {},
   "outputs": [
    {
     "name": "stdout",
     "output_type": "stream",
     "text": [
      "Найденные слова в главе 2: ['лошадь', 'лошадь', 'конюшня']\n",
      "Наиболее употребляемое слово: лошадь (2 раз)\n",
      "Процент найденных слов: 0.12%\n"
     ]
    }
   ],
   "source": [
    "# глава 2\n",
    "# приводим текст к нижнему регистру\n",
    "chapter_2 = chapter_2.lower()\n",
    "# удаляем сноски в квадратных скобках\n",
    "chapter_2 = re.sub(r'\\[[^\\]]*\\]', '', chapter_2)\n",
    "# удаляем пунктуацию\n",
    "chapter_2 = re.sub(r'[^\\w\\s]', '', chapter_2)\n",
    "# разбиваем на токены\n",
    "tokens_2 = re.findall(r'\\w+', chapter_2)\n",
    "# удаляем стоп-слова\n",
    "filtered_tokens_2 = [token for token in tokens_2 if token not in stop_words]\n",
    "# лемматизация\n",
    "lemmas_2 = [morph.parse(token)[0].normal_form for token in filtered_tokens_2]\n",
    "len(lemmas_2)\n",
    "# поиск слова \"лошадь\" и его синонимов\n",
    "search_terms_2 = {'лошадь', 'конюшн', 'жеребец', 'кобыла', 'пони', 'гнедой', 'вороной', 'мустанг', 'рысак'}\n",
    "search_pattern_2 = re.compile(r'^(лошад|конюшн|жереб|кобыл|пони|гнед|ворон|мустанг|рыс)[а-я]*$', re.IGNORECASE)\n",
    "found_words_2 = [lemma for lemma in lemmas_2 if search_pattern_2.match(lemma)]\n",
    "print(\"Найденные слова в главе 2:\", found_words_2)\n",
    "# какое слово среди найденных употребляется чаще всего?\n",
    "word_counts_2 = Counter(found_words_2)\n",
    "most_common_word_2, most_common_count_2 = word_counts_2.most_common(1)[0] if word_counts_2 else (None, 0)\n",
    "print(f\"Наиболее употребляемое слово: {most_common_word_2} ({most_common_count_2} раз)\")\n",
    "# Вычисление процента найденных слов относительно общего количества лемм\n",
    "percentage_found_2 = (len(found_words_2) / len(lemmas_2)) * 100 if len(lemmas_2) > 0 else 0\n",
    "print(f\"Процент найденных слов: {percentage_found_2:.2f}%\")"
   ]
  },
  {
   "cell_type": "code",
   "execution_count": 7,
   "metadata": {},
   "outputs": [
    {
     "name": "stdout",
     "output_type": "stream",
     "text": [
      "Найденные слова в главе 3: ['прилив', 'волна', 'прилив', 'прилив', 'прибой', 'прилив', 'прилив', 'волна', 'волна', 'волна', 'прилив', 'прилив', 'волна', 'прилив', 'волна', 'прилив', 'волна', 'приходить']\n",
      "Наиболее употребляемое слово: прилив (9 раз)\n",
      "Процент найденных слов: 0.53%\n"
     ]
    }
   ],
   "source": [
    "# глава 3\n",
    "# приводим текст к нижнему регистру\n",
    "chapter_3 = chapter_3.lower()\n",
    "# удаляем сноски в квадратных скобках\n",
    "chapter_3 = re.sub(r'\\[[^\\]]*\\]', '', chapter_3)\n",
    "# удаляем пунктуацию\n",
    "chapter_3 = re.sub(r'[^\\w\\s]', '', chapter_3)\n",
    "# разбиваем на токены\n",
    "tokens_3 = re.findall(r'\\w+', chapter_3)\n",
    "# удаляем стоп-слова\n",
    "filtered_tokens_3 = [token for token in tokens_3 if token not in stop_words]\n",
    "# лемматизация\n",
    "lemmas_3 = [morph.parse(token)[0].normal_form for token in filtered_tokens_3]\n",
    "len(lemmas_3)\n",
    "# поиск слова \"прилив\" и его синонимов\n",
    "search_terms_3 = {'прилив', 'подъем', 'приток', 'нарастание', 'наплыв', 'прибой', 'волна', 'подтопление', 'приход', 'всплеск'}\n",
    "search_pattern_3 = re.compile(r'^(прилив|подъем|приток|нараста|наплыв|прибо|волн|подтоплен|приход|всплеск)[а-я]*$', re.IGNORECASE)\n",
    "found_words_3 = [lemma for lemma in lemmas_3 if search_pattern_3.match(lemma)]\n",
    "print(\"Найденные слова в главе 3:\", found_words_3)\n",
    "# какое слово среди найденных употребляется чаще всего?\n",
    "word_counts_3 = Counter(found_words_3)\n",
    "most_common_word_3, most_common_count_3 = word_counts_3.most_common(1)[0] if word_counts_3 else (None, 0)\n",
    "print(f\"Наиболее употребляемое слово: {most_common_word_3} ({most_common_count_3} раз)\")\n",
    "# Вычисление процента найденных слов относительно общего количества лемм\n",
    "percentage_found_3 = (len(found_words_3) / len(lemmas_3)) * 100 if len(lemmas_3) > 0 else 0\n",
    "print(f\"Процент найденных слов: {percentage_found_3:.2f}%\")"
   ]
  },
  {
   "cell_type": "code",
   "execution_count": 8,
   "metadata": {},
   "outputs": [
    {
     "name": "stdout",
     "output_type": "stream",
     "text": [
      "Найденные слова в главе 4: ['девушка', 'девушка', 'нимфа', 'нимфа', 'нимфа', 'девчонка', 'девичий', 'девушка']\n",
      "Наиболее употребляемое слово: девушка (3 раз)\n",
      "Процент найденных слов: 0.24%\n"
     ]
    }
   ],
   "source": [
    "# глава 4\n",
    "# приводим текст к нижнему регистру\n",
    "chapter_4 = chapter_4.lower()\n",
    "# удаляем сноски в квадратных скобках\n",
    "chapter_4 = re.sub(r'\\[[^\\]]*\\]', '', chapter_4)\n",
    "# удаляем пунктуацию\n",
    "chapter_4 = re.sub(r'[^\\w\\s]', '', chapter_4)\n",
    "# разбиваем на токены\n",
    "tokens_4 = re.findall(r'\\w+', chapter_4)\n",
    "# удаляем стоп-слова\n",
    "filtered_tokens_4 = [token for token in tokens_4 if token not in stop_words]\n",
    "# лемматизация\n",
    "lemmas_4 = [morph.parse(token)[0].normal_form for token in filtered_tokens_4]\n",
    "len(lemmas_4)\n",
    "# поиск слова \"нимфа\" и его синонимов\n",
    "search_terms_4 = {'нимфа', 'сирена', 'божество', 'дева', 'нереида'}\n",
    "search_pattern_4 = re.compile(r'^(нимф|сирен|божеств|дев|нереид)[а-я]*$', re.IGNORECASE)\n",
    "found_words_4 = [lemma for lemma in lemmas_4 if search_pattern_4.match(lemma)]\n",
    "print(\"Найденные слова в главе 4:\", found_words_4)\n",
    "# какое слово среди найденных употребляется чаще всего?\n",
    "word_counts_4 = Counter(found_words_4)\n",
    "most_common_word_4, most_common_count_4 = word_counts_4.most_common(1)[0] if word_counts_4 else (None, 0)\n",
    "print(f\"Наиболее употребляемое слово: {most_common_word_4} ({most_common_count_4} раз)\")\n",
    "# Вычисление процента найденных слов относительно общего количества лемм\n",
    "percentage_found_4 = (len(found_words_4) / len(lemmas_4)) * 100 if len(lemmas_4) > 0 else 0\n",
    "print(f\"Процент найденных слов: {percentage_found_4:.2f}%\")"
   ]
  },
  {
   "cell_type": "code",
   "execution_count": 9,
   "metadata": {},
   "outputs": [
    {
     "name": "stdout",
     "output_type": "stream",
     "text": [
      "Найденные слова в главе 5: ['благодарный', 'месса', 'таинственно', 'месса', 'причастие', 'причастник', 'причастие', 'месса', 'причастие', 'месса', 'месса', 'месса', 'благодарение']\n",
      "Наиболее употребляемое слово: месса (6 раз)\n",
      "Процент найденных слов: 0.36%\n"
     ]
    }
   ],
   "source": [
    "# глава 5\n",
    "# приводим текст к нижнему регистру\n",
    "chapter_5 = chapter_5.lower()\n",
    "# удаляем сноски в квадратных скобках\n",
    "chapter_5 = re.sub(r'\\[[^\\]]*\\]', '', chapter_5)\n",
    "# удаляем пунктуацию\n",
    "chapter_5 = re.sub(r'[^\\w\\s]', '', chapter_5)\n",
    "# разбиваем на токены\n",
    "tokens_5 = re.findall(r'\\w+', chapter_5)\n",
    "# удаляем стоп-слова\n",
    "filtered_tokens_5 = [token for token in tokens_5 if token not in stop_words]\n",
    "# лемматизация\n",
    "lemmas_5 = [morph.parse(token)[0].normal_form for token in filtered_tokens_5]\n",
    "len(lemmas_5)\n",
    "# поиск слова \"евхарист\" и его синонимов\n",
    "search_terms_5 = {'евхарист', 'благодать', 'таинство', 'литургия', 'приобщение', 'причастие', 'причащение', 'благодарение', 'месса'}\n",
    "search_pattern_5 = re.compile(r'^(евхарист|благодат|таинств|литурги|приобщ|причаст|причащ|благодар|месс)[а-я]*$', re.IGNORECASE)\n",
    "found_words_5 = [lemma for lemma in lemmas_5 if search_pattern_5.match(lemma)]\n",
    "print(\"Найденные слова в главе 5:\", found_words_5)\n",
    "# какое слово среди найденных употребляется чаще всего?\n",
    "word_counts_5 = Counter(found_words_5)\n",
    "most_common_word_5, most_common_count_5 = word_counts_5.most_common(1)[0] if word_counts_5 else (None, 0)\n",
    "print(f\"Наиболее употребляемое слово: {most_common_word_5} ({most_common_count_5} раз)\")\n",
    "# Вычисление процента найденных слов относительно общего количества лемм\n",
    "percentage_found_5 = (len(found_words_5) / len(lemmas_5)) * 100 if len(lemmas_5) > 0 else 0\n",
    "print(f\"Процент найденных слов: {percentage_found_5:.2f}%\")"
   ]
  },
  {
   "cell_type": "code",
   "execution_count": 10,
   "metadata": {},
   "outputs": [
    {
     "name": "stdout",
     "output_type": "stream",
     "text": [
      "Найденные слова в главе 6: ['смотритель', 'смотритель', 'смотритель', 'смотритель', 'смотритель', 'смотритель', 'смотритель', 'смотритель']\n",
      "Наиболее употребляемое слово: смотритель (8 раз)\n",
      "Процент найденных слов: 0.13%\n"
     ]
    }
   ],
   "source": [
    "# глава 6\n",
    "# приводим текст к нижнему регистру\n",
    "chapter_6 = chapter_6.lower()\n",
    "# удаляем сноски в квадратных скобках\n",
    "chapter_6 = re.sub(r'\\[[^\\]]*\\]', '', chapter_6)\n",
    "# удаляем пунктуацию\n",
    "chapter_6 = re.sub(r'[^\\w\\s]', '', chapter_6)\n",
    "# разбиваем на токены\n",
    "tokens_6 = re.findall(r'\\w+', chapter_6)\n",
    "# удаляем стоп-слова\n",
    "filtered_tokens_6 = [token for token in tokens_6 if token not in stop_words]\n",
    "# лемматизация\n",
    "lemmas_6 = [morph.parse(token)[0].normal_form for token in filtered_tokens_6]\n",
    "len(lemmas_6)\n",
    "# поиск слова \"смотритель\" и его синонимов\n",
    "search_terms_6 = {'смотритель', 'инспектор', 'наблюдатель', 'сторож', 'надзиратель', 'страж', 'блюститель', 'дозорный', 'охранник', 'караульный'}\n",
    "search_pattern_6 = re.compile(r'^(смотрител|инспект|наблюдат|сторож|надзират|страж|блюстит|дозор|охран|караул)[а-я]*$', re.IGNORECASE)\n",
    "found_words_6 = [lemma for lemma in lemmas_6 if search_pattern_6.match(lemma)]\n",
    "print(\"Найденные слова в главе 6:\", found_words_6)\n",
    "# какое слово среди найденных употребляется чаще всего?\n",
    "word_counts_6 = Counter(found_words_6)\n",
    "most_common_word_6, most_common_count_6 = word_counts_6.most_common(1)[0] if word_counts_6 else (None, 0)\n",
    "print(f\"Наиболее употребляемое слово: {most_common_word_6} ({most_common_count_6} раз)\")\n",
    "# Вычисление процента найденных слов относительно общего количества лемм\n",
    "percentage_found_6 = (len(found_words_6) / len(lemmas_6)) * 100 if len(lemmas_6) > 0 else 0\n",
    "print(f\"Процент найденных слов: {percentage_found_6:.2f}%\")"
   ]
  },
  {
   "cell_type": "code",
   "execution_count": 11,
   "metadata": {},
   "outputs": [
    {
     "name": "stdout",
     "output_type": "stream",
     "text": [
      "Найденные слова в главе 7: ['редакция', 'заметка', 'заметка', 'редактор', 'редакция', 'заметка', 'текст', 'читать', 'читать', 'редакция', 'читать', 'редактор', 'редактор', 'редактор', 'редактор', 'редактор', 'редактор', 'редактор', 'заметить', 'редактор', 'редактор', 'редакция', 'редактор', 'читать', 'редактор', 'редактор', 'редактор', 'редактор', 'редактор', 'редактор', 'редактор', 'редакция', 'редактор', 'редактор', 'редактор', 'редактор', 'редактор', 'заметить', 'заметить', 'редактор', 'редакция', 'редактор', 'заметка', 'редактор', 'заметка']\n",
      "Наиболее употребляемое слово: редактор (26 раз)\n",
      "Процент найденных слов: 0.75%\n"
     ]
    }
   ],
   "source": [
    "# глава 7\n",
    "# приводим текст к нижнему регистру\n",
    "chapter_7 = chapter_7.lower()\n",
    "# удаляем сноски в квадратных скобках\n",
    "chapter_7 = re.sub(r'\\[[^\\]]*\\]', '', chapter_7)\n",
    "# удаляем пунктуацию\n",
    "chapter_7 = re.sub(r'[^\\w\\s]', '', chapter_7)\n",
    "# разбиваем на токены\n",
    "tokens_7 = re.findall(r'\\w+', chapter_7)\n",
    "# удаляем стоп-слова\n",
    "filtered_tokens_7 = [token for token in tokens_7 if token not in stop_words]\n",
    "# лемматизация\n",
    "lemmas_7 = [morph.parse(token)[0].normal_form for token in filtered_tokens_7]\n",
    "len(lemmas_7)\n",
    "# поиск слова \"редактор\" и его синонимов\n",
    "search_terms_7 = {'редактор', 'издатель', 'корректор', 'справка', 'вычитка', 'текст', 'редакция', 'заметка'}\n",
    "search_pattern_7 = re.compile(r'^(редак|издат|коррект|справк|справоч|чит|текст|замет)[а-я]*$', re.IGNORECASE)\n",
    "found_words_7 = [lemma for lemma in lemmas_7 if search_pattern_7.match(lemma)]\n",
    "print(\"Найденные слова в главе 7:\", found_words_7)\n",
    "# какое слово среди найденных употребляется чаще всего?\n",
    "word_counts_7 = Counter(found_words_7)\n",
    "most_common_word_7, most_common_count_7 = word_counts_7.most_common(1)[0] if word_counts_7 else (None, 0)\n",
    "print(f\"Наиболее употребляемое слово: {most_common_word_7} ({most_common_count_7} раз)\")\n",
    "# Вычисление процента найденных слов относительно общего количества лемм\n",
    "percentage_found_7 = (len(found_words_7) / len(lemmas_7)) * 100 if len(lemmas_7) > 0 else 0\n",
    "print(f\"Процент найденных слов: {percentage_found_7:.2f}%\")"
   ]
  },
  {
   "cell_type": "code",
   "execution_count": 12,
   "metadata": {},
   "outputs": [
    {
     "name": "stdout",
     "output_type": "stream",
     "text": [
      "Найденные слова в главе 8: ['полиция', 'полицейский', 'полицейский', 'полицейский', 'чиновник', 'полиция', 'полицейский', 'полиция', 'полицейский']\n",
      "Наиболее употребляемое слово: полицейский (5 раз)\n",
      "Процент найденных слов: 0.12%\n"
     ]
    }
   ],
   "source": [
    "# глава 8\n",
    "# приводим текст к нижнему регистру\n",
    "chapter_8 = chapter_8.lower()\n",
    "# удаляем сноски в квадратных скобках\n",
    "chapter_8 = re.sub(r'\\[[^\\]]*\\]', '', chapter_8)\n",
    "# удаляем пунктуацию\n",
    "chapter_8 = re.sub(r'[^\\w\\s]', '', chapter_8)\n",
    "# разбиваем на токены\n",
    "tokens_8 = re.findall(r'\\w+', chapter_8)\n",
    "# удаляем стоп-слова\n",
    "filtered_tokens_8 = [token for token in tokens_8 if token not in stop_words]\n",
    "# лемматизация\n",
    "lemmas_8 = [morph.parse(token)[0].normal_form for token in filtered_tokens_8]\n",
    "len(lemmas_8)\n",
    "# поиск слова \"констебль\" и его синонимов\n",
    "search_terms_8 = {'констебль', 'капитан', 'полицейский', 'чин', 'жандарм', 'страж', 'патрульный', 'шериф', 'блюститель'}\n",
    "search_pattern_8 = re.compile(r'^(констебл|полиц|чин|жандарм|страж|патрул|шериф|блюстит)[а-я]*$', re.IGNORECASE)\n",
    "found_words_8 = [lemma for lemma in lemmas_8 if search_pattern_8.match(lemma)]\n",
    "print(\"Найденные слова в главе 8:\", found_words_8)\n",
    "# какое слово среди найденных употребляется чаще всего?\n",
    "word_counts_8 = Counter(found_words_8)\n",
    "most_common_word_8, most_common_count_8 = word_counts_8.most_common(1)[0] if word_counts_8 else (None, 0)\n",
    "print(f\"Наиболее употребляемое слово: {most_common_word_8} ({most_common_count_8} раз)\")\n",
    "# Вычисление процента найденных слов относительно общего количества лемм\n",
    "percentage_found_8 = (len(found_words_8) / len(lemmas_8)) * 100 if len(lemmas_8) > 0 else 0\n",
    "print(f\"Процент найденных слов: {percentage_found_8:.2f}%\")"
   ]
  },
  {
   "cell_type": "code",
   "execution_count": 13,
   "metadata": {},
   "outputs": [
    {
     "name": "stdout",
     "output_type": "stream",
     "text": [
      "Найденные слова в главе 9: ['городок', 'стратфорд', 'стратфорд', 'стратфорд', 'город', 'город', 'стратфорд', 'стратфорд', 'стратфорд', 'город', 'стратфордский']\n",
      "Наиболее употребляемое слово: стратфорд (6 раз)\n",
      "Процент найденных слов: 0.15%\n"
     ]
    }
   ],
   "source": [
    "# глава 9\n",
    "# приводим текст к нижнему регистру\n",
    "chapter_9 = chapter_9.lower()\n",
    "# удаляем сноски в квадратных скобках\n",
    "chapter_9 = re.sub(r'\\[[^\\]]*\\]', '', chapter_9)\n",
    "# удаляем пунктуацию\n",
    "chapter_9 = re.sub(r'[^\\w\\s]', '', chapter_9)\n",
    "# разбиваем на токены\n",
    "tokens_9 = re.findall(r'\\w+', chapter_9)\n",
    "# удаляем стоп-слова\n",
    "filtered_tokens_9 = [token for token in tokens_9 if token not in stop_words]\n",
    "# лемматизация\n",
    "lemmas_9 = [morph.parse(token)[0].normal_form for token in filtered_tokens_9]\n",
    "len(lemmas_9)\n",
    "# поиск слова \"стратфорд\" и его синонимов\n",
    "# упс! стратфорд - это название населенного пункта, поэтому синонимов к нему не подобрать - только производные\n",
    "search_terms_9 = {'стратфорд', 'район', 'город'}\n",
    "search_pattern_9 = re.compile(r'^(стратфорд|район|город)[а-я]*$', re.IGNORECASE)\n",
    "found_words_9 = [lemma for lemma in lemmas_9 if search_pattern_9.match(lemma)]\n",
    "print(\"Найденные слова в главе 9:\", found_words_9)\n",
    "# какое слово среди найденных употребляется чаще всего?\n",
    "word_counts_9 = Counter(found_words_9)\n",
    "most_common_word_9, most_common_count_9 = word_counts_9.most_common(1)[0] if word_counts_9 else (None, 0)\n",
    "print(f\"Наиболее употребляемое слово: {most_common_word_9} ({most_common_count_9} раз)\")\n",
    "# Вычисление процента найденных слов относительно общего количества лемм\n",
    "percentage_found_9 = (len(found_words_9) / len(lemmas_9)) * 100 if len(lemmas_9) > 0 else 0\n",
    "print(f\"Процент найденных слов: {percentage_found_9:.2f}%\")"
   ]
  },
  {
   "cell_type": "code",
   "execution_count": 14,
   "metadata": {},
   "outputs": [
    {
     "name": "stdout",
     "output_type": "stream",
     "text": [
      "Найденные слова в главе 10: ['людская', 'гражданский', 'гражданский', 'гражданин']\n",
      "Наиболее употребляемое слово: гражданский (2 раз)\n",
      "Процент найденных слов: 0.05%\n"
     ]
    }
   ],
   "source": [
    "# глава 10\n",
    "# приводим текст к нижнему регистру\n",
    "chapter_10 = chapter_10.lower()\n",
    "# удаляем сноски в квадратных скобках\n",
    "chapter_10 = re.sub(r'\\[[^\\]]*\\]', '', chapter_10)\n",
    "# удаляем пунктуацию\n",
    "chapter_10 = re.sub(r'[^\\w\\s]', '', chapter_10)\n",
    "# разбиваем на токены\n",
    "tokens_10 = re.findall(r'\\w+', chapter_10)\n",
    "# удаляем стоп-слова\n",
    "filtered_tokens_10 = [token for token in tokens_10 if token not in stop_words]\n",
    "# лемматизация\n",
    "lemmas_10 = [morph.parse(token)[0].normal_form for token in filtered_tokens_10]\n",
    "len(lemmas_10)\n",
    "# поиск слова \"граждане\" и его синонимов\n",
    "search_terms_10 = {'граждане', 'жители', 'люди', 'население', 'горожане', 'народ', 'общество', 'общественность'}\n",
    "search_pattern_10 = re.compile(r'^(граждан|жит|люд|насел|горож|народ|обществ)[а-я]*$', re.IGNORECASE)\n",
    "found_words_10 = [lemma for lemma in lemmas_10 if search_pattern_10.match(lemma)]\n",
    "print(\"Найденные слова в главе 10:\", found_words_10)\n",
    "# какое слово среди найденных употребляется чаще всего?\n",
    "word_counts_10 = Counter(found_words_10)\n",
    "most_common_word_10, most_common_count_10 = word_counts_10.most_common(1)[0] if word_counts_10 else (None, 0)\n",
    "print(f\"Наиболее употребляемое слово: {most_common_word_10} ({most_common_count_10} раз)\")\n",
    "# Вычисление процента найденных слов относительно общего количества лемм\n",
    "percentage_found_10 = (len(found_words_10) / len(lemmas_10)) * 100 if len(lemmas_10) > 0 else 0\n",
    "print(f\"Процент найденных слов: {percentage_found_10:.2f}%\")"
   ]
  },
  {
   "cell_type": "code",
   "execution_count": 15,
   "metadata": {},
   "outputs": [
    {
     "name": "stdout",
     "output_type": "stream",
     "text": [
      "Найденные слова в главе 11: ['барменша', 'барнлейн', 'барни']\n",
      "Наиболее употребляемое слово: барменша (1 раз)\n",
      "Процент найденных слов: 0.04%\n"
     ]
    }
   ],
   "source": [
    "# глава 11\n",
    "# приводим текст к нижнему регистру\n",
    "chapter_11 = chapter_11.lower()\n",
    "# удаляем сноски в квадратных скобках\n",
    "chapter_11 = re.sub(r'\\[[^\\]]*\\]', '', chapter_11)\n",
    "# удаляем пунктуацию\n",
    "chapter_11 = re.sub(r'[^\\w\\s]', '', chapter_11)\n",
    "# разбиваем на токены\n",
    "tokens_11 = re.findall(r'\\w+', chapter_11)\n",
    "# удаляем стоп-слова\n",
    "filtered_tokens_11 = [token for token in tokens_11 if token not in stop_words]\n",
    "# лемматизация\n",
    "lemmas_11 = [morph.parse(token)[0].normal_form for token in filtered_tokens_11]\n",
    "len(lemmas_11)\n",
    "# поиск слова \"бармен\" и его синонимов\n",
    "search_terms_11 = {'бармен', 'трактирщик'}\n",
    "search_pattern_11 = re.compile(r'^(барм|барн|трактир)[а-я]*$', re.IGNORECASE)\n",
    "found_words_11 = [lemma for lemma in lemmas_11 if search_pattern_11.match(lemma)]\n",
    "print(\"Найденные слова в главе 11:\", found_words_11)\n",
    "# какое слово среди найденных употребляется чаще всего?\n",
    "word_counts_11 = Counter(found_words_11)\n",
    "most_common_word_11, most_common_count_11 = word_counts_11.most_common(1)[0] if word_counts_11 else (None, 0)\n",
    "print(f\"Наиболее употребляемое слово: {most_common_word_11} ({most_common_count_11} раз)\")\n",
    "# Вычисление процента найденных слов относительно общего количества лемм\n",
    "percentage_found_11 = (len(found_words_11) / len(lemmas_11)) * 100 if len(lemmas_11) > 0 else 0\n",
    "print(f\"Процент найденных слов: {percentage_found_11:.2f}%\")"
   ]
  },
  {
   "cell_type": "code",
   "execution_count": 16,
   "metadata": {},
   "outputs": [
    {
     "name": "stdout",
     "output_type": "stream",
     "text": [
      "Найденные слова в главе 12: ['ирландия', 'ирландский', 'ирландский', 'ирландец', 'ирландия', 'ирландия', 'ирландия', 'ирландский', 'ирландия', 'революция', 'ирландский', 'ирландский', 'ирландия', 'ирландия', 'ирландия', 'ирландский', 'ирландский', 'ирландский', 'ирландский', 'ирландия', 'ирландский', 'ирландский', 'ирландия', 'ирландский', 'ирландский', 'ирландия', 'ирландский', 'ирландский', 'ирландец', 'ирландский', 'ирландия', 'ирландец', 'ирландский', 'ирландский', 'ирландия', 'ирландия', 'ирландец', 'ирландия', 'ирландский', 'ирландский', 'ирландия', 'ирландский', 'ирландия', 'ирландский', 'ирландец', 'ирландия', 'ирландия', 'ирландский', 'ирландия', 'ирландия', 'ирландский', 'ирландский']\n",
      "Наиболее употребляемое слово: ирландский (25 раз)\n",
      "Процент найденных слов: 0.43%\n"
     ]
    }
   ],
   "source": [
    "# глава 12\n",
    "# приводим текст к нижнему регистру\n",
    "chapter_12 = chapter_12.lower()\n",
    "# удаляем сноски в квадратных скобках\n",
    "chapter_12 = re.sub(r'\\[[^\\]]*\\]', '', chapter_12)\n",
    "# удаляем пунктуацию\n",
    "chapter_12 = re.sub(r'[^\\w\\s]', '', chapter_12)\n",
    "# разбиваем на токены\n",
    "tokens_12 = re.findall(r'\\w+', chapter_12)\n",
    "# удаляем стоп-слова\n",
    "filtered_tokens_12 = [token for token in tokens_12 if token not in stop_words]\n",
    "# лемматизация\n",
    "lemmas_12 = [morph.parse(token)[0].normal_form for token in filtered_tokens_12]\n",
    "len(lemmas_12)\n",
    "# поиск слова \"фений\" и его синонимов\n",
    "search_terms_12 = {'фений', 'революционер', 'ирландец', 'республиканец'}\n",
    "search_pattern_12 = re.compile(r'^(фений|револю|ирланд|республик)[а-я]*$', re.IGNORECASE)\n",
    "found_words_12 = [lemma for lemma in lemmas_12 if search_pattern_12.match(lemma)]\n",
    "print(\"Найденные слова в главе 12:\", found_words_12)\n",
    "# какое слово среди найденных употребляется чаще всего?\n",
    "word_counts_12 = Counter(found_words_12)\n",
    "most_common_word_12, most_common_count_12 = word_counts_12.most_common(1)[0] if word_counts_12 else (None, 0)\n",
    "print(f\"Наиболее употребляемое слово: {most_common_word_12} ({most_common_count_12} раз)\")\n",
    "# Вычисление процента найденных слов относительно общего количества лемм\n",
    "percentage_found_12 = (len(found_words_12) / len(lemmas_12)) * 100 if len(lemmas_12) > 0 else 0\n",
    "print(f\"Процент найденных слов: {percentage_found_12:.2f}%\")"
   ]
  },
  {
   "cell_type": "code",
   "execution_count": 17,
   "metadata": {},
   "outputs": [
    {
     "name": "stdout",
     "output_type": "stream",
     "text": [
      "Найденные слова в главе 13: ['чистота', 'честь', 'непорочный', 'невинный', 'чистота', 'честь', 'честь', 'честь', 'невинный', 'невинность']\n",
      "Наиболее употребляемое слово: честь (4 раз)\n",
      "Процент найденных слов: 0.11%\n"
     ]
    }
   ],
   "source": [
    "# глава 13\n",
    "# приводим текст к нижнему регистру\n",
    "chapter_13 = chapter_13.lower()\n",
    "# удаляем сноски в квадратных скобках\n",
    "chapter_13 = re.sub(r'\\[[^\\]]*\\]', '', chapter_13)\n",
    "# удаляем пунктуацию\n",
    "chapter_13 = re.sub(r'[^\\w\\s]', '', chapter_13)\n",
    "# разбиваем на токены\n",
    "tokens_13 = re.findall(r'\\w+', chapter_13)\n",
    "# удаляем стоп-слова\n",
    "filtered_tokens_13 = [token for token in tokens_13 if token not in stop_words]\n",
    "# лемматизация\n",
    "lemmas_13 = [morph.parse(token)[0].normal_form for token in filtered_tokens_13]\n",
    "len(lemmas_13)\n",
    "# поиск слова \"девственность\" и его синонимов\n",
    "search_terms_13 = {'девственность', 'целомудрие', 'чистота', 'невинность', 'первозданность', 'непорочность', 'честь', 'незапятнанность'}\n",
    "search_pattern_13 = re.compile(r'^(девственн|целомудр|чистот|невинн|первоздан|непорочн|чест|незапятнан)[а-я]*$', re.IGNORECASE)\n",
    "found_words_13 = [lemma for lemma in lemmas_13 if search_pattern_13.match(lemma)]\n",
    "print(\"Найденные слова в главе 13:\", found_words_13)\n",
    "# какое слово среди найденных употребляется чаще всего?\n",
    "word_counts_13 = Counter(found_words_13)\n",
    "most_common_word_13, most_common_count_13 = word_counts_13.most_common(1)[0] if word_counts_13 else (None, 0)\n",
    "print(f\"Наиболее употребляемое слово: {most_common_word_13} ({most_common_count_13} раз)\")\n",
    "# Вычисление процента найденных слов относительно общего количества лемм\n",
    "percentage_found_13 = (len(found_words_13) / len(lemmas_13)) * 100 if len(lemmas_13) > 0 else 0\n",
    "print(f\"Процент найденных слов: {percentage_found_13:.2f}%\")"
   ]
  },
  {
   "cell_type": "code",
   "execution_count": 18,
   "metadata": {},
   "outputs": [
    {
     "name": "stdout",
     "output_type": "stream",
     "text": [
      "Найденные слова в главе 14: ['материнство', 'мать', 'мать', 'матер', 'родиться', 'матер', 'родить', 'родить', 'родить', 'родить', 'матер', 'мать', 'мать', 'мать', 'мать', 'матер', 'матер', 'родиться', 'материнство', 'материнство', 'мать', 'родить', 'материя', 'материя', 'родить', 'мать', 'мать', 'родить', 'мать', 'мать', 'мать', 'мать', 'родитель', 'материнский', 'мать', 'материнский', 'материнство', 'мать', 'мать', 'мать', 'мамочка', 'мать']\n",
      "Наиболее употребляемое слово: мать (18 раз)\n",
      "Процент найденных слов: 0.34%\n"
     ]
    }
   ],
   "source": [
    "# глава 14\n",
    "# приводим текст к нижнему регистру\n",
    "chapter_14 = chapter_14.lower()\n",
    "# удаляем сноски в квадратных скобках\n",
    "chapter_14 = re.sub(r'\\[[^\\]]*\\]', '', chapter_14)\n",
    "# удаляем пунктуацию\n",
    "chapter_14 = re.sub(r'[^\\w\\s]', '', chapter_14)\n",
    "# разбиваем на токены\n",
    "tokens_14 = re.findall(r'\\w+', chapter_14)\n",
    "# удаляем стоп-слова\n",
    "filtered_tokens_14 = [token for token in tokens_14 if token not in stop_words]\n",
    "# лемматизация\n",
    "lemmas_14 = [morph.parse(token)[0].normal_form for token in filtered_tokens_14]\n",
    "len(lemmas_14)\n",
    "# поиск слова \"мать\" и его синонимов\n",
    "search_terms_14 = {'мать', 'мама', 'матушка', 'родитель'}\n",
    "search_pattern_14 = re.compile(r'^(мать|мамоч|маму|мама|мате|родит)[а-я]*$', re.IGNORECASE)\n",
    "found_words_14 = [lemma for lemma in lemmas_14 if search_pattern_14.match(lemma)]\n",
    "print(\"Найденные слова в главе 14:\", found_words_14)\n",
    "# какое слово среди найденных употребляется чаще всего?\n",
    "word_counts_14 = Counter(found_words_14)\n",
    "most_common_word_14, most_common_count_14 = word_counts_14.most_common(1)[0] if word_counts_14 else (None, 0)\n",
    "print(f\"Наиболее употребляемое слово: {most_common_word_14} ({most_common_count_14} раз)\")\n",
    "# Вычисление процента найденных слов относительно общего количества лемм\n",
    "percentage_found_14 = (len(found_words_14) / len(lemmas_14)) * 100 if len(lemmas_14) > 0 else 0\n",
    "print(f\"Процент найденных слов: {percentage_found_14:.2f}%\")"
   ]
  },
  {
   "cell_type": "code",
   "execution_count": 19,
   "metadata": {},
   "outputs": [
    {
     "name": "stdout",
     "output_type": "stream",
     "text": [
      "Найденные слова в главе 15: ['блудный', 'распутница', 'блудный', 'распутство', 'блудница', 'распутник', 'проститутка', 'проститутка', 'распутный', 'проститутка', 'проститутка', 'проститутка', 'проститутка', 'проститутка', 'проститутка']\n",
      "Наиболее употребляемое слово: проститутка (8 раз)\n",
      "Процент найденных слов: 0.06%\n"
     ]
    }
   ],
   "source": [
    "# глава 15\n",
    "# приводим текст к нижнему регистру\n",
    "chapter_15 = chapter_15.lower()\n",
    "# удаляем сноски в квадратных скобках\n",
    "chapter_15 = re.sub(r'\\[[^\\]]*\\]', '', chapter_15)\n",
    "# удаляем пунктуацию\n",
    "chapter_15 = re.sub(r'[^\\w\\s]', '', chapter_15)\n",
    "# разбиваем на токены\n",
    "tokens_15 = re.findall(r'\\w+', chapter_15)\n",
    "# удаляем стоп-слова\n",
    "filtered_tokens_15 = [token for token in tokens_15 if token not in stop_words]\n",
    "# лемматизация\n",
    "lemmas_15 = [morph.parse(token)[0].normal_form for token in filtered_tokens_15]\n",
    "len(lemmas_15)\n",
    "# поиск слова \"проституция\" и его синонимов\n",
    "search_terms_15 = {'проституция', 'блуд', 'распутство'}\n",
    "search_pattern_15 = re.compile(r'^(проститу|блуд|распут)[а-я]*$', re.IGNORECASE)\n",
    "found_words_15 = [lemma for lemma in lemmas_15 if search_pattern_15.match(lemma)]\n",
    "print(\"Найденные слова в главе 15:\", found_words_15)\n",
    "# какое слово среди найденных употребляется чаще всего?\n",
    "word_counts_15 = Counter(found_words_15)\n",
    "most_common_word_15, most_common_count_15 = word_counts_15.most_common(1)[0] if word_counts_15 else (None, 0)\n",
    "print(f\"Наиболее употребляемое слово: {most_common_word_15} ({most_common_count_15} раз)\")\n",
    "# Вычисление процента найденных слов относительно общего количества лемм\n",
    "percentage_found_15 = (len(found_words_15) / len(lemmas_15)) * 100 if len(lemmas_15) > 0 else 0\n",
    "print(f\"Процент найденных слов: {percentage_found_15:.2f}%\")"
   ]
  },
  {
   "cell_type": "code",
   "execution_count": 20,
   "metadata": {},
   "outputs": [
    {
     "name": "stdout",
     "output_type": "stream",
     "text": [
      "Найденные слова в главе 16: ['моряк', 'моряк', 'моряк', 'моряк', 'моряк', 'моряк', 'моряк', 'моряк', 'моряк', 'моряк', 'моряк', 'моряк', 'матрос', 'моряк', 'моряк', 'мореход', 'моряк', 'моряк', 'моряк', 'моряк', 'моряк', 'матрос', 'моряк', 'моряк', 'моряк', 'моряк', 'моряк', 'мореход', 'моряк', 'матросский', 'моряк', 'моряк', 'матросский', 'матрос', 'матрос', 'мореход', 'моряк', 'мореплаватель']\n",
      "Наиболее употребляемое слово: моряк (28 раз)\n",
      "Процент найденных слов: 0.31%\n"
     ]
    }
   ],
   "source": [
    "# глава 16\n",
    "# приводим текст к нижнему регистру\n",
    "chapter_16 = chapter_16.lower()\n",
    "# удаляем сноски в квадратных скобках\n",
    "chapter_16 = re.sub(r'\\[[^\\]]*\\]', '', chapter_16)\n",
    "# удаляем пунктуацию\n",
    "chapter_16 = re.sub(r'[^\\w\\s]', '', chapter_16)\n",
    "# разбиваем на токены\n",
    "tokens_16 = re.findall(r'\\w+', chapter_16)\n",
    "# удаляем стоп-слова\n",
    "filtered_tokens_16 = [token for token in tokens_16 if token not in stop_words]\n",
    "# лемматизация\n",
    "lemmas_16 = [morph.parse(token)[0].normal_form for token in filtered_tokens_16]\n",
    "len(lemmas_16)\n",
    "# поиск слова \"моряки\" и его синонимов\n",
    "search_terms_16 = {'моряки', 'матрос', 'флот', 'мореплаватель', 'салага', 'юнга', 'мореход'}\n",
    "search_pattern_16 = re.compile(r'^(моряк|матрос|флот|мореплават|салаг|юнг|мореход)[а-я]*$', re.IGNORECASE)\n",
    "found_words_16 = [lemma for lemma in lemmas_16 if search_pattern_16.match(lemma)]\n",
    "print(\"Найденные слова в главе 16:\", found_words_16)\n",
    "# какое слово среди найденных употребляется чаще всего?\n",
    "word_counts_16 = Counter(found_words_16)\n",
    "most_common_word_16, most_common_count_16 = word_counts_16.most_common(1)[0] if word_counts_16 else (None, 0)\n",
    "print(f\"Наиболее употребляемое слово: {most_common_word_16} ({most_common_count_16} раз)\")\n",
    "# Вычисление процента найденных слов относительно общего количества лемм\n",
    "percentage_found_16 = (len(found_words_16) / len(lemmas_16)) * 100 if len(lemmas_16) > 0 else 0\n",
    "print(f\"Процент найденных слов: {percentage_found_16:.2f}%\")"
   ]
  },
  {
   "cell_type": "code",
   "execution_count": 21,
   "metadata": {},
   "outputs": [
    {
     "name": "stdout",
     "output_type": "stream",
     "text": [
      "Найденные слова в главе 17: ['тело', 'тело', 'тело', 'тело', 'звезда', 'звезда', 'звезда', 'тело', 'тело', 'звезда', 'комета', 'тело', 'звезда', 'звезда', 'звезда', 'светило', 'тело', 'звезда', 'звезда', 'звезда', 'светило', 'светильник', 'светлый', 'светильникомбра', 'тело', 'светило', 'звезда', 'телосложение', 'кометный', 'звезда', 'тело', 'тело', 'телосложение', 'телосложение', 'звезда']\n",
      "Наиболее употребляемое слово: звезда (13 раз)\n",
      "Процент найденных слов: 0.24%\n"
     ]
    }
   ],
   "source": [
    "# глава 17\n",
    "# приводим текст к нижнему регистру\n",
    "chapter_17 = chapter_17.lower()\n",
    "# удаляем сноски в квадратных скобках\n",
    "chapter_17 = re.sub(r'\\[[^\\]]*\\]', '', chapter_17)\n",
    "# удаляем пунктуацию\n",
    "chapter_17 = re.sub(r'[^\\w\\s]', '', chapter_17)\n",
    "# разбиваем на токены\n",
    "tokens_17 = re.findall(r'\\w+', chapter_17)\n",
    "# удаляем стоп-слова\n",
    "filtered_tokens_17 = [token for token in tokens_17 if token not in stop_words]\n",
    "# лемматизация\n",
    "lemmas_17 = [morph.parse(token)[0].normal_form for token in filtered_tokens_17]\n",
    "len(lemmas_17)\n",
    "# поиск слова \"кометы\" и его синонимов\n",
    "search_terms_17 = {'кометы', 'тело', 'галактика', 'звезда', 'светило'}\n",
    "search_pattern_17 = re.compile(r'^(комет|тело|тела|галакти|звезд|свети|светл)[а-я]*$', re.IGNORECASE)\n",
    "found_words_17 = [lemma for lemma in lemmas_17 if search_pattern_17.match(lemma)]\n",
    "print(\"Найденные слова в главе 17:\", found_words_17)\n",
    "# какое слово среди найденных употребляется чаще всего?\n",
    "word_counts_17 = Counter(found_words_17)\n",
    "most_common_word_17, most_common_count_17 = word_counts_17.most_common(1)[0] if word_counts_17 else (None, 0)\n",
    "print(f\"Наиболее употребляемое слово: {most_common_word_17} ({most_common_count_17} раз)\")\n",
    "# Вычисление процента найденных слов относительно общего количества лемм\n",
    "percentage_found_17 = (len(found_words_17) / len(lemmas_17)) * 100 if len(lemmas_17) > 0 else 0\n",
    "print(f\"Процент найденных слов: {percentage_found_17:.2f}%\")"
   ]
  },
  {
   "cell_type": "code",
   "execution_count": 22,
   "metadata": {},
   "outputs": [
    {
     "name": "stdout",
     "output_type": "stream",
     "text": [
      "Найденные слова в главе 18: ['землетрясение', 'мир', 'мир', 'материал', 'земля', 'мир', 'мир', 'природа', 'мир', 'природа', 'природа', 'мир', 'природа', 'природа']\n",
      "Наиболее употребляемое слово: мир (6 раз)\n",
      "Процент найденных слов: 0.13%\n"
     ]
    }
   ],
   "source": [
    "# глава 18\n",
    "# приводим текст к нижнему регистру\n",
    "chapter_18 = chapter_18.lower()\n",
    "# удаляем сноски в квадратных скобках\n",
    "chapter_18 = re.sub(r'\\[[^\\]]*\\]', '', chapter_18)\n",
    "# удаляем пунктуацию\n",
    "chapter_18 = re.sub(r'[^\\w\\s]', '', chapter_18)\n",
    "# разбиваем на токены\n",
    "tokens_18 = re.findall(r'\\w+', chapter_18)\n",
    "# удаляем стоп-слова\n",
    "filtered_tokens_18 = [token for token in tokens_18 if token not in stop_words]\n",
    "# лемматизация\n",
    "lemmas_18 = [morph.parse(token)[0].normal_form for token in filtered_tokens_18]\n",
    "len(lemmas_18)\n",
    "# поиск слова \"земля\" и его синонимов\n",
    "search_terms_18 = {'земля', 'мир', 'планета', 'природа', 'суша', 'материк', 'плодородие', 'почва'}\n",
    "search_pattern_18 = re.compile(r'^(земл|мир|планет|природ|суш|матер|плодород|почв)[а-я]*$', re.IGNORECASE)\n",
    "found_words_18 = [lemma for lemma in lemmas_18 if search_pattern_18.match(lemma)]\n",
    "print(\"Найденные слова в главе 18:\", found_words_18)\n",
    "# какое слово среди найденных употребляется чаще всего?\n",
    "word_counts_18 = Counter(found_words_18)\n",
    "most_common_word_18, most_common_count_18 = word_counts_18.most_common(1)[0] if word_counts_18 else (None, 0)\n",
    "print(f\"Наиболее употребляемое слово: {most_common_word_18} ({most_common_count_18} раз)\")\n",
    "# Вычисление процента найденных слов относительно общего количества лемм\n",
    "percentage_found_18 = (len(found_words_18) / len(lemmas_18)) * 100 if len(lemmas_18) > 0 else 0\n",
    "print(f\"Процент найденных слов: {percentage_found_18:.2f}%\")"
   ]
  },
  {
   "cell_type": "code",
   "execution_count": 24,
   "metadata": {},
   "outputs": [
    {
     "name": "stdout",
     "output_type": "stream",
     "text": [
      "157147\n",
      "339\n"
     ]
    }
   ],
   "source": [
    "# Посчитаем общее количество лемм на весь роман\n",
    "lemmas = lemmas_1 + lemmas_2 + lemmas_3 + lemmas_4 + lemmas_5 + lemmas_6 + lemmas_7 + lemmas_8 + lemmas_9 + lemmas_10 + lemmas_11 + lemmas_12 + lemmas_13 + lemmas_14 + lemmas_15 + lemmas_16 + lemmas_17 + lemmas_18\n",
    "print(len(lemmas))\n",
    "# Посчитаем все найденные слова относительно \"символов\" каждого эпизода\n",
    "found_words = found_words_1 + found_words_2 + found_words_3 + found_words_4 + found_words_5 + found_words_6 + found_words_7 + found_words_8 + found_words_9 + found_words_10 + found_words_11 + found_words_12 + found_words_13 + found_words_14 + found_words_15 + found_words_16 + found_words_17 + found_words_18\n",
    "print(len(found_words))"
   ]
  },
  {
   "cell_type": "code",
   "execution_count": 25,
   "metadata": {},
   "outputs": [
    {
     "name": "stdout",
     "output_type": "stream",
     "text": [
      "          Процент найденных слов Самое частое слово Сколько раз\n",
      "Эпизод 1                   0.27%         продолжать          10\n",
      "Эпизод 2                   0.12%             лошадь           2\n",
      "Эпизод 3                   0.53%             прилив           9\n",
      "Эпизод 4                   0.24%            девушка           3\n",
      "Эпизод 5                   0.36%              месса           6\n",
      "Эпизод 6                   0.13%         смотритель           8\n",
      "Эпизод 7                   0.27%           редактор          26\n",
      "Эпизод 8                   0.12%        полицейский           5\n",
      "Эпизод 9                   0.15%          стратфорд           6\n",
      "Эпизод 10                  0.05%        гражданский           2\n",
      "Эпизод 11                  0.04%           барменша           1\n",
      "Эпизод 12                  0.43%         ирландский          25\n",
      "Эпизод 13                  0.11%              честь           4\n",
      "Эпизод 14                  0.34%               мать          18\n",
      "Эпизод 15                  0.06%        проститутка           8\n",
      "Эпизод 16                  0.31%              моряк          28\n",
      "Эпизод 17                  0.24%             звезда          13\n",
      "Эпизод 18                  0.13%                мир           6\n"
     ]
    }
   ],
   "source": [
    "# визуализируем результаты\n",
    "\n",
    "# сначала таблицей\n",
    "\n",
    "data_chapters = {\n",
    "    'Эпизод 1':['0.27%', 'продолжать', '10'],\n",
    "    'Эпизод 2':['0.12%', 'лошадь', '2'],\n",
    "    'Эпизод 3':['0.53%', 'прилив', '9'],\n",
    "    'Эпизод 4':['0.24%', 'девушка', '3'],\n",
    "    'Эпизод 5':['0.36%', 'месса', '6'],\n",
    "    'Эпизод 6':['0.13%', 'смотритель', '8'],\n",
    "    'Эпизод 7':['0.27%', 'редактор', '26'],\n",
    "    'Эпизод 8':['0.12%', 'полицейский', '5'],\n",
    "    'Эпизод 9':['0.15%', 'стратфорд', '6'],\n",
    "    'Эпизод 10':['0.05%', 'гражданский', '2'],\n",
    "    'Эпизод 11':['0.04%', 'барменша', '1'],\n",
    "    'Эпизод 12':['0.43%', 'ирландский', '25'],\n",
    "    'Эпизод 13':['0.11%', 'честь', '4'],\n",
    "    'Эпизод 14':['0.34%', 'мать', '18'],\n",
    "    'Эпизод 15':['0.06%', 'проститутка', '8'],\n",
    "    'Эпизод 16':['0.31%', 'моряк', '28'],\n",
    "    'Эпизод 17':['0.24%', 'звезда', '13'],\n",
    "    'Эпизод 18':['0.13%', 'мир', '6'],\n",
    "}\n",
    "\n",
    "chapters = pd.DataFrame.from_dict(data_chapters).T.rename(columns={0:\"Процент найденных слов\", 1:\"Самое частое слово\", 2:\"Сколько раз\"})\n",
    "print(chapters)"
   ]
  },
  {
   "cell_type": "code",
   "execution_count": 26,
   "metadata": {},
   "outputs": [
    {
     "data": {
      "image/png": "[encoded data removed]",
      "text/plain": [
       "<Figure size 600x600 with 1 Axes>"
      ]
     },
     "metadata": {},
     "output_type": "display_data"
    }
   ],
   "source": [
    "# а теперь в виде круговой диаграммы\n",
    "\n",
    "fig, ax = plt.subplots(figsize=(6, 6))\n",
    "labels = ['Найденные слова', 'Остальные слова']\n",
    "values = [len(found_words), len(lemmas) - len(found_words)]\n",
    "ax.pie(values, labels=labels, autopct='%1.1f%%', colors=['black', 'lightgray'], startangle=140)\n",
    "ax.set_title('Процент найденных слов в тексте')\n",
    "ax.xaxis.set_major_locator(ticker.MaxNLocator(integer=True))\n",
    "ax.yaxis.set_major_locator(ticker.MaxNLocator(integer=True))\n",
    "plt.show()"
   ]
  },
  {
   "cell_type": "code",
   "execution_count": 27,
   "metadata": {},
   "outputs": [
    {
     "data": {
      "image/png": "[encoded data removed]",
      "text/plain": [
       "<Figure size 1000x500 with 1 Axes>"
      ]
     },
     "metadata": {},
     "output_type": "display_data"
    }
   ],
   "source": [
    "# и в виде графика\n",
    "\n",
    "chapters = pd.DataFrame.from_dict(data_chapters, orient='index', columns=[\"Процент найденных слов\", \"Самое частое слово\", \"Сколько раз\"])\n",
    "# Преобразование процентных значений в числа\n",
    "chapters[\"Процент найденных слов\"] = chapters[\"Процент найденных слов\"].str.rstrip('%').astype(float)\n",
    "plt.figure(figsize=(10, 5))\n",
    "plt.bar(chapters.index, chapters[\"Процент найденных слов\"], color='red')\n",
    "plt.xticks(rotation=75)\n",
    "plt.xlabel(\"Эпизоды\")\n",
    "plt.ylabel(\"Процент найденных слов\")\n",
    "plt.title(\"Процент слов, связанных с символами глав\")\n",
    "for i, v in enumerate(chapters[\"Процент найденных слов\"]):\n",
    "    plt.text(i, v + 0.01, f\"{v}%\", ha='center', fontsize=10)\n",
    "plt.show()"
   ]
  }
 ],
 "metadata": {
  "kernelspec": {
   "display_name": "Python 3",
   "language": "python",
   "name": "python3"
  },
  "language_info": {
   "codemirror_mode": {
    "name": "ipython",
    "version": 3
   },
   "file_extension": ".py",
   "mimetype": "text/x-python",
   "name": "python",
   "nbconvert_exporter": "python",
   "pygments_lexer": "ipython3",
   "version": "3.13.0"
  }
 },
 "nbformat": 4,
 "nbformat_minor": 2
}
